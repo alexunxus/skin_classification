{
 "cells": [
  {
   "cell_type": "code",
   "execution_count": 7,
   "metadata": {},
   "outputs": [
    {
     "name": "stdout",
     "output_type": "stream",
     "text": [
      "Automatically created module for IPython interactive environment\n",
      "[0 0 1 0 1 0 1 0 0 0 0 0 0 0 0 1 0 0 1 1 0 0 1 1 0 1 1 0 0 1 0 0 1 0 0 0 1\n",
      " 0 0 0 0 1 0 1 1 0 0 0 0 0 0 0 0 0 0 0 0 0 0 0 0 1 0 0 0 0 0 0 1 1 0 0 1 1\n",
      " 0]\n",
      "[-0.76301132 -0.20224493  0.11801481 -0.90780855 -0.01116192 -0.6048727\n",
      "  0.02283491 -0.61076876 -0.37572754 -0.47017411 -0.42224234 -0.3355867\n",
      " -0.22723929 -0.07856729 -0.53383361  0.12163662 -0.71356947 -0.55111511\n",
      "  0.37991331 -0.11107635 -0.70713712 -0.02392675 -0.25045747  0.12675547\n",
      " -0.68210402 -0.08001795 -0.03259341 -0.04953425 -0.12974835 -0.19299299\n",
      " -0.3619768  -0.22818639 -0.06196433 -0.52455061 -0.40026409 -0.35056585\n",
      " -0.05770139 -1.11907501  0.19599366 -0.04299172 -0.48108269  0.1741885\n",
      " -0.41416456 -0.01053513  0.01645355 -0.11932181 -0.70817199 -0.77303401\n",
      " -0.61489613 -0.96334774 -0.31037723 -0.31952657 -0.35306417  0.12127427\n",
      " -0.6643231  -0.55149778 -0.55695146 -0.41111447 -0.49463336  0.06910059\n",
      " -0.23036784  0.30342285  0.17642852 -0.1906155  -0.42910413 -0.67759563\n",
      " -0.32958811 -0.97119543  0.02088168 -0.08177305 -0.41466962 -0.30436228\n",
      "  0.18869727  0.24966175 -0.39980476]\n"
     ]
    }
   ],
   "source": [
    "print(__doc__)\n",
    "\n",
    "import numpy as np\n",
    "import matplotlib.pyplot as plt\n",
    "from itertools import cycle\n",
    "\n",
    "from sklearn import svm, datasets\n",
    "from sklearn.metrics import roc_curve, auc\n",
    "from sklearn.model_selection import train_test_split\n",
    "from sklearn.preprocessing import label_binarize\n",
    "from sklearn.multiclass import OneVsRestClassifier\n",
    "from scipy import interp\n",
    "from sklearn.metrics import roc_auc_score\n",
    "\n",
    "# Import some data to play with\n",
    "iris = datasets.load_iris()\n",
    "X = iris.data\n",
    "y = iris.target\n",
    "\n",
    "# Binarize the output\n",
    "y = label_binarize(y, classes=[0, 1, 2])\n",
    "n_classes = y.shape[1]\n",
    "\n",
    "# Add noisy features to make the problem harder\n",
    "random_state = np.random.RandomState(0)\n",
    "n_samples, n_features = X.shape\n",
    "X = np.c_[X, random_state.randn(n_samples, 200 * n_features)]\n",
    "\n",
    "# shuffle and split training and test sets\n",
    "X_train, X_test, y_train, y_test = train_test_split(X, y, test_size=.5,\n",
    "                                                    random_state=0)\n",
    "\n",
    "# Learn to predict each class against the other\n",
    "classifier = OneVsRestClassifier(svm.SVC(kernel='linear', probability=True,\n",
    "                                 random_state=random_state))\n",
    "y_score = classifier.fit(X_train, y_train).decision_function(X_test)\n",
    "\n",
    "# Compute ROC curve and ROC area for each class\n",
    "fpr = dict()\n",
    "tpr = dict()\n",
    "roc_auc = dict()\n",
    "\n",
    "# y_test (n, 0 or 1) is groundtruth\n",
    "# y_score (n, 0 ~ 1) is prediction\n",
    "for i in range(n_classes):\n",
    "    fpr[i], tpr[i], _ = roc_curve(y_test[:, i], y_score[:, i])\n",
    "    roc_auc[i] = auc(fpr[i], tpr[i])\n",
    "\n",
    "# Compute micro-average ROC curve and ROC area\n",
    "fpr[\"micro\"], tpr[\"micro\"], _ = roc_curve(y_test.ravel(), y_score.ravel())\n",
    "roc_auc[\"micro\"] = auc(fpr[\"micro\"], tpr[\"micro\"])"
   ]
  },
  {
   "cell_type": "code",
   "execution_count": null,
   "metadata": {},
   "outputs": [],
   "source": []
  }
 ],
 "metadata": {
  "kernelspec": {
   "display_name": "Python 3",
   "language": "python",
   "name": "python3"
  },
  "language_info": {
   "codemirror_mode": {
    "name": "ipython",
    "version": 3
   },
   "file_extension": ".py",
   "mimetype": "text/x-python",
   "name": "python",
   "nbconvert_exporter": "python",
   "pygments_lexer": "ipython3",
   "version": "3.8.3"
  }
 },
 "nbformat": 4,
 "nbformat_minor": 4
}
