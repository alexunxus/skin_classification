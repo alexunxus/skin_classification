{
 "cells": [
  {
   "cell_type": "code",
   "execution_count": 166,
   "metadata": {},
   "outputs": [],
   "source": [
    "import matplotlib.pyplot as plt\n",
    "import os\n",
    "import numpy as np\n",
    "import pandas as pd\n",
    "from SerialSectionsReg import SerialSectionsReg\n",
    "import cv2\n",
    "from hephaestus.data.ndpwrapper_v2 import Slide_ndpread\n",
    "from scipy.ndimage import label\n",
    "from sklearn import tree"
   ]
  },
  {
   "cell_type": "code",
   "execution_count": 137,
   "metadata": {},
   "outputs": [],
   "source": [
    "SAVE_PATH = \"/workspace/skin/decision_tree/decision_input.csv\"\n",
    "LABEL_PATH= \"/workspace/skin/decision_tree/data.csv\""
   ]
  },
  {
   "cell_type": "code",
   "execution_count": 2,
   "metadata": {},
   "outputs": [
    {
     "name": "stdout",
     "output_type": "stream",
     "text": [
      "'result/inference_CSV/2019-10-30 02.15.32/df.csv',\n",
      "'result/inference_CSV/2019-10-30 02.10.47/df.csv',\n",
      "'result/inference_CSV/2019-10-30 02.09.05/df.csv',\n",
      "'result/inference_CSV/2019-10-30 02.03.40/df.csv',\n",
      "'result/inference_CSV/2019-10-30 02.04.50/df.csv',\n",
      "'result/inference_CSV/2019-10-30 02.23.07/df.csv',\n",
      "'result/inference_CSV/2019-10-30 02.18.03/df.csv',\n",
      "'result/inference_CSV/2019-10-30 02.13.08/df.csv',\n",
      "'result/inference_CSV/2019-10-30 02.02.21/df.csv',\n",
      "'result/inference_CSV/350013D01170 - 2019-10-30 02.21.40/df.csv',\n",
      "'result/inference_CSV/2019-10-30 02.14.37/df.csv',\n",
      "'result/inference_CSV/2019-10-30 01.59.42/df.csv',\n",
      "'result/inference_CSV/2019-10-30 02.01.19/df.csv',\n",
      "'result/inference_CSV/2019-10-30 02.05.46/df.csv',\n",
      "'result/inference_CSV/2019-10-30 02.19.24/df.csv',\n",
      "'result/inference_CSV/2019-10-30 02.07.27/df.csv',\n"
     ]
    }
   ],
   "source": [
    "for f in [file for file in os.listdir(\"result/inference_CSV/\") if not file.startswith(\".\")]:\n",
    "    tmp = os.path.join(\"result/inference_CSV/\",f,\"df.csv\")\n",
    "    print(f\"'{tmp}',\")"
   ]
  },
  {
   "cell_type": "code",
   "execution_count": 3,
   "metadata": {},
   "outputs": [],
   "source": [
    "TEST_IMG = \"result/inference_CSV/2019-10-30 02.01.19/df.csv\"\n",
    "ADIP_IMG = \"result/inference_CSV/2019-10-30 02.02.21/df.csv\"\n",
    "ALL_IMG = ['result/inference_CSV/2019-10-30 02.15.32/df.csv',\n",
    "            'result/inference_CSV/2019-10-30 02.10.47/df.csv',\n",
    "            'result/inference_CSV/2019-10-30 02.09.05/df.csv',\n",
    "            'result/inference_CSV/2019-10-30 02.03.40/df.csv',\n",
    "            'result/inference_CSV/2019-10-30 02.04.50/df.csv',\n",
    "            'result/inference_CSV/2019-10-30 02.23.07/df.csv',\n",
    "            'result/inference_CSV/2019-10-30 02.18.03/df.csv',\n",
    "            'result/inference_CSV/2019-10-30 02.13.08/df.csv',\n",
    "            'result/inference_CSV/2019-10-30 02.02.21/df.csv',\n",
    "            'result/inference_CSV/350013D01170 - 2019-10-30 02.21.40/df.csv',\n",
    "            'result/inference_CSV/2019-10-30 02.14.37/df.csv',\n",
    "            'result/inference_CSV/2019-10-30 01.59.42/df.csv',\n",
    "            'result/inference_CSV/2019-10-30 02.01.19/df.csv',\n",
    "            'result/inference_CSV/2019-10-30 02.05.46/df.csv',\n",
    "            'result/inference_CSV/2019-10-30 02.19.24/df.csv',\n",
    "            'result/inference_CSV/2019-10-30 02.07.27/df.csv',]\n",
    "TEST_PATH = \"/mnt/cephrbd/data/A19001_NCKU_SKIN/Image/20191106/2019-10-30 02.01.19.ndpi\"\n",
    "TEST_DIR = \"/mnt/cephrbd/data/A19001_NCKU_SKIN/Image/20191106/\"\n",
    "TYPES = ['Background', 'Inflammatory infiltration', 'Adipose tissue', 'Sweat gland', 'Hair follicles', 'Dermis', 'Sebaceous gland', 'Epidermis', 'Blood vessels', 'Muscle']\n",
    "COLOR_TABLE = {\n",
    "    0:{\"class\": \"Background\",\n",
    "       \"colorcode\": (255, 255, 255)\n",
    "      },\n",
    "    1:{\"class\": \"Inflammatory infiltration\",\n",
    "       \"colorcode\": (255, 87, 34)\n",
    "      },\n",
    "    2:{\"class\": \"Adipose tissue\",\n",
    "       \"colorcode\": (233, 30, 99)\n",
    "      },\n",
    "    3:{\"class\": \"Sweat gland\",\n",
    "       \"colorcode\": (205, 220, 57)\n",
    "      },\n",
    "    4:{\"class\": \"Hair follicles\",\n",
    "       \"colorcode\": (0, 0, 153)\n",
    "      },\n",
    "    5:{\"class\": \"Dermis\",\n",
    "       \"colorcode\": (76, 175, 80)\n",
    "      },\n",
    "    6:{\"class\": \"Sebaceous gland\",\n",
    "       \"colorcode\": (156, 39, 176)\n",
    "      },\n",
    "    7:{\"class\": \"Epidermis\",\n",
    "       \"colorcode\": (3, 169, 244)\n",
    "      },\n",
    "    8:{\"class\": \"Blood vessels\", #??\n",
    "       \"colorcode\": (255, 0, 0)\n",
    "      },\n",
    "    9:{\"class\": \"Muscle\", #??\n",
    "       \"colorcode\": (181, 136, 24)\n",
    "      },\n",
    "}\n"
   ]
  },
  {
   "cell_type": "code",
   "execution_count": 4,
   "metadata": {},
   "outputs": [],
   "source": [
    "def df2thumbnail(df):\n",
    "    w = np.max(df[\"w\"]) + 1\n",
    "    h = np.max(df[\"h\"]) + 1\n",
    "    data = df.to_numpy().reshape((h, w, -1))[..., 2:].argmax(axis=-1)\n",
    "    #img = np.tile(np.expand_dims(data, axis=-1), (1, 1, 3)).astype(np.uint8)\n",
    "    color_img = np.zeros((*data.shape, 3), dtype=np.uint8)\n",
    "    for i in range(data.shape[0]):\n",
    "        for j in range(data.shape[1]):\n",
    "            color_img[i, j] = COLOR_TABLE[data[i, j]][\"colorcode\"]\n",
    "    return data, color_img"
   ]
  },
  {
   "cell_type": "code",
   "execution_count": 5,
   "metadata": {},
   "outputs": [
    {
     "data": {
      "text/plain": [
       "(array([[0, 0, 0, ..., 0, 4, 0],\n",
       "        [0, 0, 0, ..., 0, 0, 0],\n",
       "        [0, 0, 0, ..., 0, 0, 0],\n",
       "        ...,\n",
       "        [0, 0, 0, ..., 0, 0, 0],\n",
       "        [0, 0, 0, ..., 0, 0, 0],\n",
       "        [0, 0, 0, ..., 0, 0, 0]]),\n",
       " array([[[255, 255, 255],\n",
       "         [255, 255, 255],\n",
       "         [255, 255, 255],\n",
       "         ...,\n",
       "         [255, 255, 255],\n",
       "         [  0,   0, 153],\n",
       "         [255, 255, 255]],\n",
       " \n",
       "        [[255, 255, 255],\n",
       "         [255, 255, 255],\n",
       "         [255, 255, 255],\n",
       "         ...,\n",
       "         [255, 255, 255],\n",
       "         [255, 255, 255],\n",
       "         [255, 255, 255]],\n",
       " \n",
       "        [[255, 255, 255],\n",
       "         [255, 255, 255],\n",
       "         [255, 255, 255],\n",
       "         ...,\n",
       "         [255, 255, 255],\n",
       "         [255, 255, 255],\n",
       "         [255, 255, 255]],\n",
       " \n",
       "        ...,\n",
       " \n",
       "        [[255, 255, 255],\n",
       "         [255, 255, 255],\n",
       "         [255, 255, 255],\n",
       "         ...,\n",
       "         [255, 255, 255],\n",
       "         [255, 255, 255],\n",
       "         [255, 255, 255]],\n",
       " \n",
       "        [[255, 255, 255],\n",
       "         [255, 255, 255],\n",
       "         [255, 255, 255],\n",
       "         ...,\n",
       "         [255, 255, 255],\n",
       "         [255, 255, 255],\n",
       "         [255, 255, 255]],\n",
       " \n",
       "        [[255, 255, 255],\n",
       "         [255, 255, 255],\n",
       "         [255, 255, 255],\n",
       "         ...,\n",
       "         [255, 255, 255],\n",
       "         [255, 255, 255],\n",
       "         [255, 255, 255]]], dtype=uint8))"
      ]
     },
     "execution_count": 5,
     "metadata": {},
     "output_type": "execute_result"
    }
   ],
   "source": [
    "df = pd.read_csv(TEST_IMG)\n",
    "df2thumbnail(df)"
   ]
  },
  {
   "cell_type": "code",
   "execution_count": 6,
   "metadata": {},
   "outputs": [
    {
     "name": "stdout",
     "output_type": "stream",
     "text": [
      "w = 278, h = 77\n",
      "['Background', 'Inflammatory infiltration', 'Adipose tissue', 'Sweat gland', 'Hair follicles', 'Dermis', 'Sebaceous gland', 'Epidermis', 'Blood vessels', 'Muscle']\n",
      "(77, 278)\n"
     ]
    }
   ],
   "source": [
    "w = np.max(df[\"w\"]) + 1\n",
    "h = np.max(df[\"h\"]) + 1\n",
    "print(f\"w = {w}, h = {h}\")\n",
    "types = list(df.columns[2:])\n",
    "print(types)\n",
    "data = df.to_numpy().reshape((h, w, -1))[..., 2:].argmax(axis=-1)\n",
    "print(data.shape)"
   ]
  },
  {
   "cell_type": "code",
   "execution_count": 7,
   "metadata": {},
   "outputs": [
    {
     "name": "stdout",
     "output_type": "stream",
     "text": [
      "<class 'numpy.ndarray'>\n"
     ]
    }
   ],
   "source": [
    "print(type(data))"
   ]
  },
  {
   "cell_type": "code",
   "execution_count": 8,
   "metadata": {},
   "outputs": [
    {
     "data": {
      "image/png": "[encoded data removed]",
      "text/plain": [
       "<Figure size 432x288 with 1 Axes>"
      ]
     },
     "metadata": {
      "needs_background": "light"
     },
     "output_type": "display_data"
    }
   ],
   "source": [
    "plt.imshow(data)\n",
    "plt.show()"
   ]
  },
  {
   "cell_type": "code",
   "execution_count": 9,
   "metadata": {},
   "outputs": [
    {
     "name": "stdout",
     "output_type": "stream",
     "text": [
      "224\n"
     ]
    },
    {
     "data": {
      "image/png": "[encoded data removed]",
      "text/plain": [
       "<Figure size 432x288 with 1 Axes>"
      ]
     },
     "metadata": {
      "needs_background": "light"
     },
     "output_type": "display_data"
    }
   ],
   "source": [
    "img = np.tile(np.expand_dims(data, axis=-1), (1, 1, 3)).astype(np.uint8)\n",
    "img *= 28\n",
    "print(np.max(img))\n",
    "plt.imshow(img)\n",
    "plt.show()"
   ]
  },
  {
   "cell_type": "code",
   "execution_count": 10,
   "metadata": {},
   "outputs": [
    {
     "name": "stdout",
     "output_type": "stream",
     "text": [
      "Width: 142080 , Height: 39168\n"
     ]
    }
   ],
   "source": [
    "this_slide = Slide_ndpread(TEST_PATH)\n",
    "thumbnail  = this_slide.get_patch_with_resize((0 , 0), src_sz = this_slide.get_size(), dst_sz=(w*16, h*16))"
   ]
  },
  {
   "cell_type": "code",
   "execution_count": 11,
   "metadata": {},
   "outputs": [
    {
     "name": "stdout",
     "output_type": "stream",
     "text": [
      "(1232, 4448, 3)\n"
     ]
    },
    {
     "data": {
      "image/png": "[encoded data removed]",
      "text/plain": [
       "<Figure size 432x288 with 1 Axes>"
      ]
     },
     "metadata": {
      "needs_background": "light"
     },
     "output_type": "display_data"
    }
   ],
   "source": [
    "print(thumbnail.shape)\n",
    "plt.imshow(thumbnail)\n",
    "plt.show()"
   ]
  },
  {
   "cell_type": "code",
   "execution_count": 12,
   "metadata": {},
   "outputs": [],
   "source": [
    "serialSectionsReg = SerialSectionsReg.SerialSectionsReg(thumbnail)\n",
    "results = serialSectionsReg.cluster_and_registrate()"
   ]
  },
  {
   "cell_type": "code",
   "execution_count": 13,
   "metadata": {},
   "outputs": [
    {
     "data": {
      "text/plain": [
       "[{'top': 360, 'left': 1825, 'width': 750, 'height': 436, 'angle': 0}]"
      ]
     },
     "execution_count": 13,
     "metadata": {},
     "output_type": "execute_result"
    }
   ],
   "source": [
    "results"
   ]
  },
  {
   "cell_type": "code",
   "execution_count": 14,
   "metadata": {},
   "outputs": [
    {
     "data": {
      "image/png": "[encoded data removed]",
      "text/plain": [
       "<Figure size 432x288 with 1 Axes>"
      ]
     },
     "metadata": {
      "needs_background": "light"
     },
     "output_type": "display_data"
    }
   ],
   "source": [
    "resize_ratio = 1\n",
    "for res in results:\n",
    "    cv2.rectangle(thumbnail, (res[\"left\"]*resize_ratio, res[\"top\"]*resize_ratio),\n",
    "                              ((res[\"left\"] + res[\"width\"])*resize_ratio,\n",
    "                              (res[\"top\"] + res[\"height\"])*resize_ratio),\n",
    "                              color=(255, 0, 0), thickness=5)\n",
    "plt.imshow(thumbnail)\n",
    "plt.show()"
   ]
  },
  {
   "cell_type": "markdown",
   "metadata": {},
   "source": [
    "## Criteria one: distant to epithelium\n",
    "    epi_regions, inf_regions <-- test_img\n",
    "    inf_centers, inf_weight <-- inf_regions\n",
    "    epi_lines <-- epi_regions\n",
    "    find min distance of inf_centers and epi_regions"
   ]
  },
  {
   "cell_type": "code",
   "execution_count": 15,
   "metadata": {},
   "outputs": [
    {
     "data": {
      "image/png": "[encoded data removed]",
      "text/plain": [
       "<Figure size 432x288 with 1 Axes>"
      ]
     },
     "metadata": {
      "needs_background": "light"
     },
     "output_type": "display_data"
    }
   ],
   "source": [
    "test_img, color_img = df2thumbnail(pd.read_csv(TEST_IMG))\n",
    "plt.imshow(color_img)\n",
    "plt.show()"
   ]
  },
  {
   "cell_type": "code",
   "execution_count": 16,
   "metadata": {},
   "outputs": [],
   "source": [
    "def segment_region(mask):\n",
    "    labels, numL = label(mask)\n",
    "    label_indices = [(labels == i).nonzero() for i in range(1, numL+1)]\n",
    "    return label_indices\n",
    "\n",
    "def compute_areas(mask):\n",
    "    labels, numL = label(mask)\n",
    "    areas = [np.sum(labels == i) for i in range(0, numL+1)]\n",
    "    return labels, areas\n",
    "\n",
    "def get_tissue_map(mask):\n",
    "    labels, numL = label(mask)\n",
    "    return labels, numL\n",
    "\n",
    "def find_nearest_dist_and_point(regions, centers):\n",
    "    '''\n",
    "    Arg: regions: [[xs, ys],...]\n",
    "         centers: [[x_c, y_c]...]\n",
    "    return: [(D1, p1), (D2, p2)...]\n",
    "    '''\n",
    "    xs = np.array([x for region in regions for x in region[0]])\n",
    "    ys = np.array([y for region in regions for y in region[1]])\n",
    "    xc = centers[:, 0]\n",
    "    yc = centers[:, 1]\n",
    "    \n",
    "    dist_matrix =  np.square(np.tile(np.expand_dims(xs, 0), (len(xc), 1))-np.tile(np.expand_dims(xc, -1), (1, len(xs))))\n",
    "    dist_matrix += np.square(np.tile(np.expand_dims(ys, 0), (len(yc), 1))-np.tile(np.expand_dims(yc, -1), (1, len(ys))))\n",
    "    \n",
    "    min_dist = np.min(dist_matrix, axis= -1)\n",
    "    min_dist = np.sqrt(min_dist)\n",
    "    min_arg  = np.argmin(dist_matrix, axis= -1)\n",
    "    return min_dist, min_arg"
   ]
  },
  {
   "cell_type": "code",
   "execution_count": 126,
   "metadata": {},
   "outputs": [],
   "source": [
    "def visualize_(image, centers, nearest):\n",
    "    pseudoimage = np.copy(image)\n",
    "    fig2 = plt.figure(figsize=(15, 10))\n",
    "    ax = fig2.add_subplot(2, 1, 1)\n",
    "    ax.imshow(pseudoimage)\n",
    "    assert len(centers[0]) == len(nearest[0])\n",
    "    assert len(centers[0]) == len(centers[1])\n",
    "    assert len(nearest[0]) == len(nearest[1])\n",
    "    for i in range(len(centers[0])):\n",
    "        ax.plot([centers[1][i], nearest[1][i]], [centers[0][i], nearest[0][i]], linewidth=2, color='w')\n",
    "    \n",
    "    ax = fig2.add_subplot(2, 1, 2)\n",
    "    plt.imshow(image)\n",
    "    plt.show()\n",
    "\n",
    "def find_mean_and_var_dist(image, min_dist, center_size):\n",
    "    mean_dist = np.dot(min_dist, center_size)*1./np.sum(center_size)\n",
    "    var_dist  = np.dot(np.square(min_dist-mean_dist), center_size)/np.sum(center_size)\n",
    "    return mean_dist,var_dist\n",
    "\n",
    "def arg2coord(args, regions):\n",
    "    '''args: [(i-th tissue, [min-args]) ... ]\n",
    "       regions: [[regions in i-th tissue] ... ], regions: [(xs, ys), (xs', ys')...]\n",
    "    '''\n",
    "    length = sum([len(arg) for i, arg in args])\n",
    "    xs = np.zeros((length))\n",
    "    ys = np.zeros((length))\n",
    "    cur = 0\n",
    "    for tissue_id, arg in args:\n",
    "        x_map, y_map = zip(*regions[tissue_id])\n",
    "        x_map = np.concatenate(x_map)\n",
    "        y_map = np.concatenate(y_map)\n",
    "        xs[cur:cur+len(arg)] = x_map[arg]\n",
    "        ys[cur:cur+len(arg)] = y_map[arg]\n",
    "        cur += len(arg)\n",
    "    return xs, ys\n",
    "\n",
    "def compute_cluster_distribution(test_img, cluster_id, target_id):\n",
    "    epi_regions = segment_region(test_img == target_id)\n",
    "    inf_regions = segment_region(test_img == cluster_id)\n",
    "    tissue_map, numL = get_tissue_map(test_img > 0)\n",
    "\n",
    "    inf_centers = [[] for i in range(0, numL+1)]\n",
    "    epi_regions_by_tissue = [[] for i in range(0, numL+1)]\n",
    "    inf_size    = [[] for i in range(0, numL+1)]\n",
    "\n",
    "    for inf_region in inf_regions:\n",
    "        tissue_id = tissue_map[inf_region[0][0], inf_region[1][0]]\n",
    "        assert tissue_id <= numL\n",
    "        inf_centers[tissue_id].append([inf_region[0].mean(), inf_region[1].mean()])\n",
    "        inf_size[tissue_id].append(len(inf_region[0]))\n",
    "\n",
    "    for epi_region in epi_regions:\n",
    "        tissue_id = tissue_map[epi_region[0][0], epi_region[1][0]]\n",
    "        assert tissue_id <= numL\n",
    "        if len(epi_region[0]) >= 4:\n",
    "            epi_regions_by_tissue[tissue_id].append(epi_region)\n",
    "\n",
    "    min_dist = []\n",
    "    min_arg  = []\n",
    "    valid_center = ([], [])\n",
    "    valid_size   = []\n",
    "    for i in range(1, numL+1):\n",
    "        if len(epi_regions_by_tissue[i]) == 0 or len(inf_centers[i]) == 0:\n",
    "            continue\n",
    "        valid_center[0].extend([x for x, y in inf_centers[i]])\n",
    "        valid_center[1].extend([y for x, y in inf_centers[i]])\n",
    "        valid_size.extend([sz for sz in inf_size[i]])\n",
    "        dist_array, arg_array = find_nearest_dist_and_point(epi_regions_by_tissue[i], np.array(inf_centers[i]))\n",
    "        min_dist.extend(dist_array)\n",
    "        min_arg.append((i, arg_array))\n",
    "    mean_dist = np.dot(min_dist, valid_size)*1./np.sum(valid_size)\n",
    "    var_dist  = np.dot(np.square(min_dist-mean_dist), valid_size)/np.sum(valid_size)\n",
    "    return mean_dist, var_dist"
   ]
  },
  {
   "cell_type": "code",
   "execution_count": 127,
   "metadata": {},
   "outputs": [
    {
     "data": {
      "text/plain": [
       "(9.258187276615994, 24.55977326820993)"
      ]
     },
     "execution_count": 127,
     "metadata": {},
     "output_type": "execute_result"
    }
   ],
   "source": [
    "compute_cluster_distribution(test_img, cluster_id=1, target_id=7)"
   ]
  },
  {
   "cell_type": "code",
   "execution_count": 117,
   "metadata": {},
   "outputs": [
    {
     "name": "stdout",
     "output_type": "stream",
     "text": [
      "[2.23606797749979, 1.0, 2.5, 2.23606797749979, 5.656854249492381, 2.23606797749979, 5.830951894845301, 4.031128874149275, 8.139410298049853, 2.8356333201827413, 2.8284271247461903, 5.385164807134504, 4.123105625617661, 9.572094859538323, 11.313708498984761, 5.852349955359813, 11.742609969205704, 3.2777738867854413, 7.0710678118654755, 8.246211251235321, 9.0, 10.04987562112089, 11.7851130197758, 1.0, 11.704699910719626, 2.7613402542968153, 10.0, 12.811127975318957, 5.385164807134504, 10.295630140987, 14.028578702354814, 14.142135623730951, 14.0, 1.8027756377319946, 12.746459203332599, 12.565384549980507, 16.1245154965971, 5.0, 14.7648230602334, 16.3783393541592, 15.041608956491324, 19.737161790783283, 11.682132605916697, 17.67059704707229, 14.212670403551895, 14.142135623730951, 1.118033988749895, 3.2015621187164243, 2.23606797749979, 1.0, 2.0155644370746373, 3.3290900012896056, 4.1799787346614865, 5.0, 3.0, 1.118033988749895, 3.681787005729088, 5.852349955359813, 6.4031242374328485, 4.0, 6.082762530298219, 6.800735254367722, 7.211102550927978, 5.0, 5.5876848714133995, 5.0, 5.385164807134504, 7.615773105863909, 9.433981132056603, 10.50047617967871, 5.0, 9.433981132056603, 10.111874208078342, 9.486832980505138, 9.486832980505138, 9.486832980505138, 11.236102527122116, 11.180339887498949, 10.770329614269007, 10.770329614269007, 12.36931687685298, 11.280514172678478, 11.138334704972731, 13.0, 13.038404810405298, 13.009611831257688, 14.371527974663325, 12.866839377079188, 13.063424559604949, 13.892443989449804, 14.142135623730951, 14.52201394052798, 13.038404810405298, 12.041594578792301, 15.78171410208663, 14.560219778561036, 16.77050983124842, 16.669999666733315, 16.278820596099706, 15.0, 18.062391868188442, 18.006943105369107, 17.804493814764857, 2.9674156357941457, 2.687419249432848, 1.118033988749895, 6.800735254367722, 3.605551275463989, 3.1622776601683795, 2.5, 5.0, 4.0, 6.4031242374328485, 6.674994798166926, 2.0, 4.839677322599993, 4.716990566028302, 6.128258770283411, 7.0710678118654755, 9.899494936611665, 3.0, 10.49044244615304, 12.041594578792296, 12.041594578792296, 9.778803607803972, 12.041594578792296, 3.3541019662496847, 9.848857801796104, 11.543396380615196, 2.0, 5.656854249492381, 11.180339887498949, 12.165525060596439, 12.833333333333336, 9.486832980505138, 10.295630140987, 15.171017214201871, 13.341664064126334, 12.893599108052944, 13.732090609226258, 13.341664064126334, 5.467073155618909, 17.40103210638228, 17.26267650163207, 11.128195482371684, 11.672617529928752, 18.24828759089466, 14.142135623730951, 20.615528128088304, 17.69180601295413]\n",
      "[(2, array([ 2,  5,  4,  5,  2, 16,  2,  6,  2, 38, 30, 24, 17,  6,  2, 17,  2,\n",
      "       43, 16, 24,  5,  5,  6, 50,  6, 55, 34,  6, 46, 38, 34,  5,  6, 58,\n",
      "       43, 38,  5, 55, 38, 34, 38,  5, 55, 34, 55, 55])), (3, array([15, 19, 28, 31, 33, 27, 18,  5, 31, 36, 24, 19, 28, 30, 14, 15, 15,\n",
      "       28, 33, 27, 27, 22, 28, 32, 38, 27, 14, 28, 33, 27, 22, 19, 28, 33,\n",
      "       14, 33, 38, 27, 19, 14, 15, 28, 28, 27, 19, 14, 33, 38, 19, 27, 14,\n",
      "       14, 15, 33, 14, 28, 38])), (4, array([10,  2, 11, 10, 11, 13, 22,  3, 12, 10,  5, 24, 25, 22, 17,  3, 10,\n",
      "       25, 13, 10, 10, 11, 13, 36, 22, 13, 36, 31, 17, 11, 12, 26, 26, 17,\n",
      "       13, 26, 26, 17, 38, 17, 13, 38, 36, 11, 36, 17, 36]))]\n"
     ]
    }
   ],
   "source": [
    "epi_regions = segment_region(test_img == 7)\n",
    "inf_regions = segment_region(test_img == 1)\n",
    "tissue_map, numL = get_tissue_map(test_img > 0)\n",
    "\n",
    "inf_centers = [[] for i in range(0, numL+1)]\n",
    "epi_regions_by_tissue = [[] for i in range(0, numL+1)]\n",
    "\n",
    "for inf_region in inf_regions:\n",
    "    tissue_id = tissue_map[inf_region[0][0], inf_region[1][0]]\n",
    "    assert tissue_id <= numL\n",
    "    inf_centers[tissue_id].append([inf_region[0].mean(), inf_region[1].mean()])\n",
    "\n",
    "for epi_region in epi_regions:\n",
    "    tissue_id = tissue_map[epi_region[0][0], epi_region[1][0]]\n",
    "    assert tissue_id <= numL\n",
    "    if len(epi_region[0]) >= 4:\n",
    "        epi_regions_by_tissue[tissue_id].append(epi_region)\n",
    "\n",
    "min_dist = []\n",
    "min_arg  = []\n",
    "valid_center = ([], [])\n",
    "valid_size   = []\n",
    "for i in range(1, numL+1):\n",
    "    if len(epi_regions_by_tissue[i]) == 0 or len(inf_centers[i]) == 0:\n",
    "        continue\n",
    "    valid_center[0].extend([x for x, y in inf_centers[i]])\n",
    "    valid_center[1].extend([y for x, y in inf_centers[i]])\n",
    "    dist_array, arg_array = find_nearest_dist_and_point(epi_regions_by_tissue[i], np.array(inf_centers[i]))\n",
    "    min_dist.extend(dist_array)\n",
    "    min_arg.append((i, arg_array))\n",
    "print(min_dist)\n",
    "print(min_arg)"
   ]
  },
  {
   "cell_type": "code",
   "execution_count": 112,
   "metadata": {},
   "outputs": [],
   "source": [
    "nearest = arg2coord(min_arg, epi_regions_by_tissue)"
   ]
  },
  {
   "cell_type": "code",
   "execution_count": 114,
   "metadata": {},
   "outputs": [
    {
     "data": {
      "image/png": "[encoded data removed]",
      "text/plain": [
       "<Figure size 1080x720 with 2 Axes>"
      ]
     },
     "metadata": {
      "needs_background": "light"
     },
     "output_type": "display_data"
    }
   ],
   "source": [
    "visualize_(color_img, valid_center, nearest)"
   ]
  },
  {
   "cell_type": "markdown",
   "metadata": {},
   "source": [
    "## Criteria 2: Perifolliculitis\n",
    "    create zero mask\n",
    "    dfs from each follicle region, search inflammation"
   ]
  },
  {
   "cell_type": "code",
   "execution_count": 128,
   "metadata": {},
   "outputs": [
    {
     "name": "stdout",
     "output_type": "stream",
     "text": [
      "side_count = 275\n",
      "contact area = 203.0\n"
     ]
    },
    {
     "data": {
      "image/png": "[encoded data removed]",
      "text/plain": [
       "<Figure size 1440x720 with 2 Axes>"
      ]
     },
     "metadata": {
      "needs_background": "light"
     },
     "output_type": "display_data"
    }
   ],
   "source": [
    "contact_mask = np.zeros(test_img.shape[:2])\n",
    "visit_mask   = np.zeros(test_img.shape[:2])\n",
    "dirs = [(-1, 0), (1, 0), (0, 1), (0, -1)]\n",
    "\n",
    "\n",
    "def dfs(image, x, y, side_count):\n",
    "    if visit_mask[x, y] == 1:\n",
    "        return\n",
    "    visit_mask[x,y] = 1\n",
    "    #print(f\"Checking ({x}, {y})\")\n",
    "    for dx, dy in dirs:\n",
    "        # is inflammation\n",
    "        if x+dx < 0 or x+dx >= image.shape[0] or y+dy < 0 or y+dy >= image.shape[1]:\n",
    "            continue\n",
    "        if image[x+dx, y+dy] == 1:\n",
    "            contact_mask[x+dx, y+dy] = 1\n",
    "            side_count[0] += 1\n",
    "        if image[x+dx, y+dy] == 4 and visit_mask[x+dx, y+dy] ==0:\n",
    "            dfs(image, x+dx, y+dy, side_count)\n",
    "    \n",
    "follicle_region=segment_region(test_img == 4)\n",
    "xs = [x for region in follicle_region for x in region[0]]\n",
    "ys = [y for region in follicle_region for y in region[1]]\n",
    "side_count = [0]\n",
    "for i in range(len(xs)):\n",
    "    dfs(test_img, xs[i], ys[i], side_count)\n",
    "\n",
    "print(f\"side_count = {side_count[0]}\")\n",
    "print(f\"contact area = {np.sum(contact_mask)}\")\n",
    "fig3 = plt.figure(figsize=(20, 10))\n",
    "ax = fig3.add_subplot(2, 1, 1)\n",
    "ax.imshow(contact_mask*255+np.array((test_img==4), dtype=np.uint8)*125)\n",
    "ax = fig3.add_subplot(2, 1, 2)\n",
    "ax.imshow(color_img)\n",
    "plt.show()"
   ]
  },
  {
   "cell_type": "markdown",
   "metadata": {},
   "source": [
    "## Criteria 3: Lymphocyte area/Tissue area\n",
    "    for each contiguous lymphocyte aggregate:\n",
    "        set_list <-- lymphocyte aggregate\n",
    "    tissue set < -- scipy label\n",
    "    for each set in set_list:\n",
    "        tissue segment = check tissue segment number by first element of set\n",
    "        print(len(set), len(tissue segment))"
   ]
  },
  {
   "cell_type": "code",
   "execution_count": 129,
   "metadata": {},
   "outputs": [
    {
     "name": "stdout",
     "output_type": "stream",
     "text": [
      "4\n"
     ]
    },
    {
     "data": {
      "image/png": "[encoded data removed]",
      "text/plain": [
       "<Figure size 432x288 with 1 Axes>"
      ]
     },
     "metadata": {
      "needs_background": "light"
     },
     "output_type": "display_data"
    }
   ],
   "source": [
    "tissue_labels, numL = label(test_img>0)\n",
    "tissue_area = [sum(tissue_labels == i) for i in range(1, numL)]\n",
    "print(numL)\n",
    "plt.imshow(tissue_labels)\n",
    "plt.show()"
   ]
  },
  {
   "cell_type": "code",
   "execution_count": 130,
   "metadata": {},
   "outputs": [
    {
     "name": "stdout",
     "output_type": "stream",
     "text": [
      "Inf area = 1, Tissue area=830\n",
      "Inf area = 1, Tissue area=830\n",
      "Inf area = 2, Tissue area=830\n",
      "Inf area = 1, Tissue area=830\n",
      "Inf area = 1, Tissue area=830\n",
      "Inf area = 1, Tissue area=830\n",
      "Inf area = 1, Tissue area=830\n",
      "Inf area = 2, Tissue area=830\n",
      "Inf area = 2, Tissue area=830\n",
      "Inf area = 7, Tissue area=830\n",
      "Inf area = 1, Tissue area=830\n",
      "Inf area = 1, Tissue area=830\n",
      "Inf area = 1, Tissue area=830\n",
      "Inf area = 4, Tissue area=830\n",
      "Inf area = 1, Tissue area=830\n",
      "Inf area = 2, Tissue area=830\n",
      "Inf area = 3, Tissue area=830\n",
      "Inf area = 22, Tissue area=830\n",
      "Inf area = 1, Tissue area=830\n",
      "Inf area = 1, Tissue area=830\n",
      "Inf area = 1, Tissue area=830\n",
      "Inf area = 1, Tissue area=830\n",
      "Inf area = 3, Tissue area=830\n",
      "Inf area = 1, Tissue area=830\n",
      "Inf area = 1, Tissue area=830\n",
      "Inf area = 4, Tissue area=830\n",
      "Inf area = 1, Tissue area=830\n",
      "Inf area = 8, Tissue area=830\n",
      "Inf area = 1, Tissue area=830\n",
      "Inf area = 2, Tissue area=846\n",
      "Inf area = 1, Tissue area=830\n",
      "Inf area = 14, Tissue area=830\n",
      "Inf area = 1, Tissue area=830\n",
      "Inf area = 1, Tissue area=830\n",
      "Inf area = 2, Tissue area=846\n",
      "Inf area = 1, Tissue area=846\n",
      "Inf area = 1, Tissue area=846\n",
      "Inf area = 4, Tissue area=846\n",
      "Inf area = 2, Tissue area=830\n",
      "Inf area = 13, Tissue area=846\n",
      "Inf area = 6, Tissue area=846\n",
      "Inf area = 6, Tissue area=830\n",
      "Inf area = 3, Tissue area=830\n",
      "Inf area = 1, Tissue area=830\n",
      "Inf area = 1, Tissue area=846\n",
      "Inf area = 1, Tissue area=846\n",
      "Inf area = 1, Tissue area=830\n",
      "Inf area = 2, Tissue area=846\n",
      "Inf area = 6, Tissue area=846\n",
      "Inf area = 2, Tissue area=846\n",
      "Inf area = 1, Tissue area=846\n",
      "Inf area = 1, Tissue area=846\n",
      "Inf area = 1, Tissue area=830\n",
      "Inf area = 2, Tissue area=830\n",
      "Inf area = 1, Tissue area=846\n",
      "Inf area = 2, Tissue area=846\n",
      "Inf area = 1, Tissue area=846\n",
      "Inf area = 1, Tissue area=846\n",
      "Inf area = 3, Tissue area=846\n",
      "Inf area = 4, Tissue area=830\n",
      "Inf area = 3, Tissue area=830\n",
      "Inf area = 1, Tissue area=846\n",
      "Inf area = 1, Tissue area=846\n",
      "Inf area = 6, Tissue area=830\n",
      "Inf area = 2, Tissue area=830\n",
      "Inf area = 1, Tissue area=846\n",
      "Inf area = 1, Tissue area=846\n",
      "Inf area = 10, Tissue area=846\n",
      "Inf area = 1, Tissue area=830\n",
      "Inf area = 1, Tissue area=846\n",
      "Inf area = 1, Tissue area=846\n",
      "Inf area = 2, Tissue area=846\n",
      "Inf area = 1, Tissue area=846\n",
      "Inf area = 1, Tissue area=846\n",
      "Inf area = 1, Tissue area=830\n",
      "Inf area = 1, Tissue area=846\n",
      "Inf area = 2, Tissue area=846\n",
      "Inf area = 1, Tissue area=846\n",
      "Inf area = 1, Tissue area=846\n",
      "Inf area = 1, Tissue area=846\n",
      "Inf area = 3, Tissue area=846\n",
      "Inf area = 2, Tissue area=846\n",
      "Inf area = 4, Tissue area=846\n",
      "Inf area = 3, Tissue area=846\n",
      "Inf area = 1, Tissue area=846\n",
      "Inf area = 2, Tissue area=846\n",
      "Inf area = 14, Tissue area=846\n",
      "Inf area = 3, Tissue area=846\n",
      "Inf area = 7, Tissue area=846\n",
      "Inf area = 1, Tissue area=846\n",
      "Inf area = 1, Tissue area=846\n",
      "Inf area = 3, Tissue area=846\n",
      "Inf area = 1, Tissue area=846\n",
      "Inf area = 5, Tissue area=846\n",
      "Inf area = 4, Tissue area=846\n",
      "Inf area = 6, Tissue area=812\n",
      "Inf area = 1, Tissue area=846\n",
      "Inf area = 2, Tissue area=846\n",
      "Inf area = 3, Tissue area=846\n",
      "Inf area = 1, Tissue area=846\n",
      "Inf area = 1, Tissue area=846\n",
      "Inf area = 3, Tissue area=812\n",
      "Inf area = 2, Tissue area=812\n",
      "Inf area = 6, Tissue area=812\n",
      "Inf area = 2, Tissue area=846\n",
      "Inf area = 1, Tissue area=812\n",
      "Inf area = 1, Tissue area=812\n",
      "Inf area = 2, Tissue area=846\n",
      "Inf area = 2, Tissue area=812\n",
      "Inf area = 1, Tissue area=812\n",
      "Inf area = 1, Tissue area=812\n",
      "Inf area = 1, Tissue area=812\n",
      "Inf area = 1, Tissue area=846\n",
      "Inf area = 3, Tissue area=812\n",
      "Inf area = 1, Tissue area=812\n",
      "Inf area = 31, Tissue area=812\n",
      "Inf area = 2, Tissue area=812\n",
      "Inf area = 3, Tissue area=812\n",
      "Inf area = 1, Tissue area=812\n",
      "Inf area = 1, Tissue area=812\n",
      "Inf area = 1, Tissue area=812\n",
      "Inf area = 9, Tissue area=812\n",
      "Inf area = 1, Tissue area=812\n",
      "Inf area = 1, Tissue area=812\n",
      "Inf area = 4, Tissue area=812\n",
      "Inf area = 1, Tissue area=812\n",
      "Inf area = 6, Tissue area=812\n",
      "Inf area = 1, Tissue area=812\n",
      "Inf area = 2, Tissue area=812\n",
      "Inf area = 1, Tissue area=812\n",
      "Inf area = 1, Tissue area=812\n",
      "Inf area = 1, Tissue area=812\n",
      "Inf area = 1, Tissue area=812\n",
      "Inf area = 6, Tissue area=812\n",
      "Inf area = 1, Tissue area=812\n",
      "Inf area = 1, Tissue area=812\n",
      "Inf area = 13, Tissue area=812\n",
      "Inf area = 1, Tissue area=812\n",
      "Inf area = 7, Tissue area=812\n",
      "Inf area = 16, Tissue area=812\n",
      "Inf area = 1, Tissue area=812\n",
      "Inf area = 3, Tissue area=812\n",
      "Inf area = 7, Tissue area=812\n",
      "Inf area = 1, Tissue area=812\n",
      "Inf area = 7, Tissue area=812\n",
      "Inf area = 2, Tissue area=812\n",
      "Inf area = 1, Tissue area=812\n",
      "Inf area = 1, Tissue area=812\n",
      "Inf area = 1, Tissue area=812\n",
      "Inf area = 1, Tissue area=812\n"
     ]
    }
   ],
   "source": [
    "tissue_labels, tissue_area = compute_areas(test_img>0)\n",
    "\n",
    "\n",
    "for inf_region in inf_regions:\n",
    "    x, y = inf_region[0][0], inf_region[1][0]\n",
    "    tissue_id = tissue_labels[x, y]\n",
    "    print(f\"Inf area = {inf_region[0].shape[0]}, Tissue area={tissue_area[tissue_id]}\")\n"
   ]
  },
  {
   "cell_type": "markdown",
   "metadata": {},
   "source": [
    "## Criteria 4: Lymphocyte, Adipose tissue area"
   ]
  },
  {
   "cell_type": "code",
   "execution_count": 131,
   "metadata": {},
   "outputs": [
    {
     "data": {
      "image/png": "[encoded data removed]",
      "text/plain": [
       "<Figure size 432x288 with 1 Axes>"
      ]
     },
     "metadata": {
      "needs_background": "light"
     },
     "output_type": "display_data"
    }
   ],
   "source": [
    "adipose_img, color_adipose = df2thumbnail(pd.read_csv(ADIP_IMG))\n",
    "plt.imshow(color_adipose)\n",
    "plt.show()"
   ]
  },
  {
   "cell_type": "code",
   "execution_count": 132,
   "metadata": {},
   "outputs": [
    {
     "data": {
      "image/png": "[encoded data removed]",
      "text/plain": [
       "<Figure size 1440x720 with 1 Axes>"
      ]
     },
     "metadata": {
      "needs_background": "light"
     },
     "output_type": "display_data"
    }
   ],
   "source": [
    "adipose_mask = adipose_img==2\n",
    "inf_mask     = adipose_img==1\n",
    "fig4 = plt.figure(figsize=(20, 10))\n",
    "plt.imshow(inf_mask*0.5 + adipose_mask)\n",
    "plt.show()"
   ]
  },
  {
   "cell_type": "code",
   "execution_count": 133,
   "metadata": {},
   "outputs": [],
   "source": [
    "class DFS:\n",
    "    def __init__(self, image, interest_id, inf_id):\n",
    "        self.image = image\n",
    "        self.interest_id = interest_id\n",
    "        self.inf_id = inf_id\n",
    "        self.visit_mask = np.zeros(image.shape[:2])\n",
    "        self.contact_mask = np.zeros(image.shape[:2])\n",
    "        self.interest_mask = image == interest_id\n",
    "        self.inf_mask = image == inf_id\n",
    "        self.contact_count = 0\n",
    "        self.dirs = [(-1, 0), (1, 0), (0, 1), (0, -1)]\n",
    "        \n",
    "    def solve(self):\n",
    "        xs, ys = np.nonzero(self.interest_mask)\n",
    "        for i in range(len(xs)):\n",
    "            self.idfs(xs[i], ys[i])\n",
    "        return self.contact_count, np.sum(self.interest_mask)\n",
    "    \n",
    "    def dfs(self, x, y):\n",
    "        if self.visit_mask[x, y] == 1:\n",
    "            return\n",
    "        self.visit_mask[x, y] = 1\n",
    "        for dx, dy in self.dirs:\n",
    "            if x+dx < 0 or x+dx >= self.image.shape[0] or y+dy < 0 or y+dy >= self.image.shape[1]:\n",
    "                return\n",
    "            if self.image[x+dx, y+dy] == self.inf_id:\n",
    "                self.contact_mask[x+dx, y+dy] = 1\n",
    "                self.contact_count += 1\n",
    "            if self.image[x+dx, y+dy] == self.interest_id and self.visit_mask[x+dx, y+dy] == 0:\n",
    "                self.dfs(x+dx, y+dy)\n",
    "                \n",
    "    def idfs(self, x, y):\n",
    "        if self.visit_mask[x, y] == 1:\n",
    "            return\n",
    "        self.visit_mask[x, y] = 1\n",
    "        \n",
    "        stack = [(x, y)]\n",
    "        \n",
    "        while(stack):\n",
    "            x, y = stack.pop()\n",
    "            for dx, dy in self.dirs:\n",
    "                if x+dx < 0 or x+dx >= self.image.shape[0] or y+dy < 0 or y+dy >= self.image.shape[1]:\n",
    "                    continue\n",
    "                if self.image[x+dx, y+dy] == self.inf_id:\n",
    "                    self.contact_mask[x+dx, y+dy] = 1\n",
    "                    self.contact_count += 1\n",
    "                if self.image[x+dx, y+dy] == self.interest_id and self.visit_mask[x+dx, y+dy] == 0:\n",
    "                    self.visit_mask[x+dx, y+dy] = 1\n",
    "                    stack.append((x+dx, y+dy))"
   ]
  },
  {
   "cell_type": "code",
   "execution_count": 136,
   "metadata": {},
   "outputs": [
    {
     "name": "stdout",
     "output_type": "stream",
     "text": [
      "55 82\n"
     ]
    }
   ],
   "source": [
    "adipose_solver = DFS(adipose_img, interest_id=2, inf_id=1)\n",
    "contact_count, adipose_area = adipose_solver.solve()\n",
    "print(contact_count, adipose_area)"
   ]
  },
  {
   "cell_type": "markdown",
   "metadata": {},
   "source": [
    "## Try binary decision tree"
   ]
  },
  {
   "cell_type": "code",
   "execution_count": 172,
   "metadata": {},
   "outputs": [],
   "source": [
    "x_df = pd.read_csv(SAVE_PATH)"
   ]
  },
  {
   "cell_type": "code",
   "execution_count": 173,
   "metadata": {},
   "outputs": [],
   "source": [
    "y_df = pd.read_csv(LABEL_PATH)"
   ]
  },
  {
   "cell_type": "code",
   "execution_count": 174,
   "metadata": {},
   "outputs": [
    {
     "data": {
      "text/html": [
       "<div>\n",
       "<style scoped>\n",
       "    .dataframe tbody tr th:only-of-type {\n",
       "        vertical-align: middle;\n",
       "    }\n",
       "\n",
       "    .dataframe tbody tr th {\n",
       "        vertical-align: top;\n",
       "    }\n",
       "\n",
       "    .dataframe thead th {\n",
       "        text-align: right;\n",
       "    }\n",
       "</style>\n",
       "<table border=\"1\" class=\"dataframe\">\n",
       "  <thead>\n",
       "    <tr style=\"text-align: right;\">\n",
       "      <th></th>\n",
       "      <th>slide_no</th>\n",
       "      <th>superficial_perivascular</th>\n",
       "      <th>superficial_and_deep_perivascular</th>\n",
       "      <th>Periadnexal</th>\n",
       "      <th>nodular</th>\n",
       "      <th>diffuse</th>\n",
       "      <th>vasculitis</th>\n",
       "      <th>folliculitis</th>\n",
       "      <th>septal_panniculitis</th>\n",
       "      <th>lobular_panniculitis</th>\n",
       "      <th>final_diagnosis</th>\n",
       "    </tr>\n",
       "  </thead>\n",
       "  <tbody>\n",
       "    <tr>\n",
       "      <th>0</th>\n",
       "      <td>2019-10-30 02.05.46.ndpi</td>\n",
       "      <td>1</td>\n",
       "      <td>0</td>\n",
       "      <td>1</td>\n",
       "      <td>0</td>\n",
       "      <td>0</td>\n",
       "      <td>0</td>\n",
       "      <td>0</td>\n",
       "      <td>0</td>\n",
       "      <td>0</td>\n",
       "      <td>Diagnosis: Psoriasiform dermatitis with reacti...</td>\n",
       "    </tr>\n",
       "    <tr>\n",
       "      <th>1</th>\n",
       "      <td>2019-10-30 02.04.50.ndpi</td>\n",
       "      <td>1</td>\n",
       "      <td>0</td>\n",
       "      <td>1</td>\n",
       "      <td>0</td>\n",
       "      <td>0</td>\n",
       "      <td>0</td>\n",
       "      <td>0</td>\n",
       "      <td>0</td>\n",
       "      <td>0</td>\n",
       "      <td>Diagnosis: Acute cutaneous lupus erythematosus...</td>\n",
       "    </tr>\n",
       "    <tr>\n",
       "      <th>2</th>\n",
       "      <td>2019-10-30 02.09.05.ndpi</td>\n",
       "      <td>1</td>\n",
       "      <td>0</td>\n",
       "      <td>0</td>\n",
       "      <td>0</td>\n",
       "      <td>0</td>\n",
       "      <td>0</td>\n",
       "      <td>0</td>\n",
       "      <td>0</td>\n",
       "      <td>0</td>\n",
       "      <td>Diagnosis: Slight spongiotic psoriasiform derm...</td>\n",
       "    </tr>\n",
       "    <tr>\n",
       "      <th>3</th>\n",
       "      <td>2019-10-30 02.07.27.ndpi</td>\n",
       "      <td>1</td>\n",
       "      <td>0</td>\n",
       "      <td>0</td>\n",
       "      <td>0</td>\n",
       "      <td>0</td>\n",
       "      <td>0</td>\n",
       "      <td>0</td>\n",
       "      <td>0</td>\n",
       "      <td>0</td>\n",
       "      <td>Diagnosis: Spongiotic psoriasiform dermatitis,...</td>\n",
       "    </tr>\n",
       "    <tr>\n",
       "      <th>4</th>\n",
       "      <td>2019-10-30 02.10.47.ndpi</td>\n",
       "      <td>1</td>\n",
       "      <td>0</td>\n",
       "      <td>0</td>\n",
       "      <td>0</td>\n",
       "      <td>0</td>\n",
       "      <td>0</td>\n",
       "      <td>0</td>\n",
       "      <td>0</td>\n",
       "      <td>0</td>\n",
       "      <td>Diagnosis: Compatible with contact dermatitis,...</td>\n",
       "    </tr>\n",
       "    <tr>\n",
       "      <th>5</th>\n",
       "      <td>2019-10-30 02.14.37.ndpi</td>\n",
       "      <td>1</td>\n",
       "      <td>0</td>\n",
       "      <td>0</td>\n",
       "      <td>0</td>\n",
       "      <td>0</td>\n",
       "      <td>0</td>\n",
       "      <td>0</td>\n",
       "      <td>0</td>\n",
       "      <td>0</td>\n",
       "      <td>Diagnosis: Spongiotic dermatitis, suggestive o...</td>\n",
       "    </tr>\n",
       "    <tr>\n",
       "      <th>6</th>\n",
       "      <td>2019-10-30 02.18.03.ndpi</td>\n",
       "      <td>1</td>\n",
       "      <td>0</td>\n",
       "      <td>1</td>\n",
       "      <td>0</td>\n",
       "      <td>0</td>\n",
       "      <td>0</td>\n",
       "      <td>0</td>\n",
       "      <td>0</td>\n",
       "      <td>0</td>\n",
       "      <td>Diagnosis: Vitiligo, left cheek. (Biopsy)\\n Mi...</td>\n",
       "    </tr>\n",
       "    <tr>\n",
       "      <th>7</th>\n",
       "      <td>2019-10-30 02.19.24.ndpi</td>\n",
       "      <td>0</td>\n",
       "      <td>0</td>\n",
       "      <td>0</td>\n",
       "      <td>0</td>\n",
       "      <td>0</td>\n",
       "      <td>0</td>\n",
       "      <td>0</td>\n",
       "      <td>0</td>\n",
       "      <td>0</td>\n",
       "      <td>Diagnosis: Lipoma, forehead. (Excision)\\n Micr...</td>\n",
       "    </tr>\n",
       "    <tr>\n",
       "      <th>8</th>\n",
       "      <td>2019-10-30 02.15.32.ndpi</td>\n",
       "      <td>0</td>\n",
       "      <td>1</td>\n",
       "      <td>0</td>\n",
       "      <td>0</td>\n",
       "      <td>0</td>\n",
       "      <td>0</td>\n",
       "      <td>0</td>\n",
       "      <td>0</td>\n",
       "      <td>0</td>\n",
       "      <td>Diagnosis: Osteo-nevus of Nanta, left cheek. (...</td>\n",
       "    </tr>\n",
       "    <tr>\n",
       "      <th>9</th>\n",
       "      <td>2019-10-30 02.23.07.ndpi</td>\n",
       "      <td>1</td>\n",
       "      <td>0</td>\n",
       "      <td>0</td>\n",
       "      <td>0</td>\n",
       "      <td>0</td>\n",
       "      <td>0</td>\n",
       "      <td>0</td>\n",
       "      <td>0</td>\n",
       "      <td>0</td>\n",
       "      <td>Diagnosis: Neurofibroma, right forehead. (Exci...</td>\n",
       "    </tr>\n",
       "    <tr>\n",
       "      <th>10</th>\n",
       "      <td>2019-10-30 01.59.42.ndpi</td>\n",
       "      <td>1</td>\n",
       "      <td>0</td>\n",
       "      <td>1</td>\n",
       "      <td>0</td>\n",
       "      <td>0</td>\n",
       "      <td>0</td>\n",
       "      <td>1</td>\n",
       "      <td>0</td>\n",
       "      <td>0</td>\n",
       "      <td>Diagnosis: Subacute cutaneous lupus erythemato...</td>\n",
       "    </tr>\n",
       "    <tr>\n",
       "      <th>11</th>\n",
       "      <td>350013D01170 - 2019-10-30 02.21.40.ndpi</td>\n",
       "      <td>1</td>\n",
       "      <td>0</td>\n",
       "      <td>1</td>\n",
       "      <td>0</td>\n",
       "      <td>0</td>\n",
       "      <td>0</td>\n",
       "      <td>1</td>\n",
       "      <td>0</td>\n",
       "      <td>0</td>\n",
       "      <td>Diagnosis: Normal appearing skin, forehead\\n M...</td>\n",
       "    </tr>\n",
       "    <tr>\n",
       "      <th>12</th>\n",
       "      <td>2019-10-30 02.01.19.ndpi</td>\n",
       "      <td>0</td>\n",
       "      <td>1</td>\n",
       "      <td>1</td>\n",
       "      <td>0</td>\n",
       "      <td>0</td>\n",
       "      <td>0</td>\n",
       "      <td>1</td>\n",
       "      <td>0</td>\n",
       "      <td>0</td>\n",
       "      <td>Diagnosis: Consistent with tumid lupus erythem...</td>\n",
       "    </tr>\n",
       "    <tr>\n",
       "      <th>13</th>\n",
       "      <td>2019-10-30 02.02.21.ndpi</td>\n",
       "      <td>0</td>\n",
       "      <td>1</td>\n",
       "      <td>1</td>\n",
       "      <td>0</td>\n",
       "      <td>0</td>\n",
       "      <td>0</td>\n",
       "      <td>0</td>\n",
       "      <td>0</td>\n",
       "      <td>1</td>\n",
       "      <td>Diagnosis: Discoid lupus erythematosus with pa...</td>\n",
       "    </tr>\n",
       "    <tr>\n",
       "      <th>14</th>\n",
       "      <td>2019-10-30 02.03.40.ndpi</td>\n",
       "      <td>0</td>\n",
       "      <td>1</td>\n",
       "      <td>1</td>\n",
       "      <td>0</td>\n",
       "      <td>0</td>\n",
       "      <td>0</td>\n",
       "      <td>1</td>\n",
       "      <td>0</td>\n",
       "      <td>0</td>\n",
       "      <td>Diagnosis: Consistent with cutaneous lupus ery...</td>\n",
       "    </tr>\n",
       "    <tr>\n",
       "      <th>15</th>\n",
       "      <td>2019-10-30 02.13.08.ndpi</td>\n",
       "      <td>1</td>\n",
       "      <td>0</td>\n",
       "      <td>0</td>\n",
       "      <td>0</td>\n",
       "      <td>0</td>\n",
       "      <td>0</td>\n",
       "      <td>0</td>\n",
       "      <td>0</td>\n",
       "      <td>0</td>\n",
       "      <td>Diagnosis: Spongiotic dermatitis with eosinoph...</td>\n",
       "    </tr>\n",
       "  </tbody>\n",
       "</table>\n",
       "</div>"
      ],
      "text/plain": [
       "                                   slide_no  superficial_perivascular  \\\n",
       "0                  2019-10-30 02.05.46.ndpi                         1   \n",
       "1                  2019-10-30 02.04.50.ndpi                         1   \n",
       "2                  2019-10-30 02.09.05.ndpi                         1   \n",
       "3                  2019-10-30 02.07.27.ndpi                         1   \n",
       "4                  2019-10-30 02.10.47.ndpi                         1   \n",
       "5                  2019-10-30 02.14.37.ndpi                         1   \n",
       "6                  2019-10-30 02.18.03.ndpi                         1   \n",
       "7                  2019-10-30 02.19.24.ndpi                         0   \n",
       "8                  2019-10-30 02.15.32.ndpi                         0   \n",
       "9                  2019-10-30 02.23.07.ndpi                         1   \n",
       "10                 2019-10-30 01.59.42.ndpi                         1   \n",
       "11  350013D01170 - 2019-10-30 02.21.40.ndpi                         1   \n",
       "12                 2019-10-30 02.01.19.ndpi                         0   \n",
       "13                 2019-10-30 02.02.21.ndpi                         0   \n",
       "14                 2019-10-30 02.03.40.ndpi                         0   \n",
       "15                 2019-10-30 02.13.08.ndpi                         1   \n",
       "\n",
       "    superficial_and_deep_perivascular  Periadnexal  nodular  diffuse  \\\n",
       "0                                   0            1        0        0   \n",
       "1                                   0            1        0        0   \n",
       "2                                   0            0        0        0   \n",
       "3                                   0            0        0        0   \n",
       "4                                   0            0        0        0   \n",
       "5                                   0            0        0        0   \n",
       "6                                   0            1        0        0   \n",
       "7                                   0            0        0        0   \n",
       "8                                   1            0        0        0   \n",
       "9                                   0            0        0        0   \n",
       "10                                  0            1        0        0   \n",
       "11                                  0            1        0        0   \n",
       "12                                  1            1        0        0   \n",
       "13                                  1            1        0        0   \n",
       "14                                  1            1        0        0   \n",
       "15                                  0            0        0        0   \n",
       "\n",
       "    vasculitis  folliculitis  septal_panniculitis  lobular_panniculitis  \\\n",
       "0            0             0                    0                     0   \n",
       "1            0             0                    0                     0   \n",
       "2            0             0                    0                     0   \n",
       "3            0             0                    0                     0   \n",
       "4            0             0                    0                     0   \n",
       "5            0             0                    0                     0   \n",
       "6            0             0                    0                     0   \n",
       "7            0             0                    0                     0   \n",
       "8            0             0                    0                     0   \n",
       "9            0             0                    0                     0   \n",
       "10           0             1                    0                     0   \n",
       "11           0             1                    0                     0   \n",
       "12           0             1                    0                     0   \n",
       "13           0             0                    0                     1   \n",
       "14           0             1                    0                     0   \n",
       "15           0             0                    0                     0   \n",
       "\n",
       "                                      final_diagnosis  \n",
       "0   Diagnosis: Psoriasiform dermatitis with reacti...  \n",
       "1   Diagnosis: Acute cutaneous lupus erythematosus...  \n",
       "2   Diagnosis: Slight spongiotic psoriasiform derm...  \n",
       "3   Diagnosis: Spongiotic psoriasiform dermatitis,...  \n",
       "4   Diagnosis: Compatible with contact dermatitis,...  \n",
       "5   Diagnosis: Spongiotic dermatitis, suggestive o...  \n",
       "6   Diagnosis: Vitiligo, left cheek. (Biopsy)\\n Mi...  \n",
       "7   Diagnosis: Lipoma, forehead. (Excision)\\n Micr...  \n",
       "8   Diagnosis: Osteo-nevus of Nanta, left cheek. (...  \n",
       "9   Diagnosis: Neurofibroma, right forehead. (Exci...  \n",
       "10  Diagnosis: Subacute cutaneous lupus erythemato...  \n",
       "11  Diagnosis: Normal appearing skin, forehead\\n M...  \n",
       "12  Diagnosis: Consistent with tumid lupus erythem...  \n",
       "13  Diagnosis: Discoid lupus erythematosus with pa...  \n",
       "14  Diagnosis: Consistent with cutaneous lupus ery...  \n",
       "15  Diagnosis: Spongiotic dermatitis with eosinoph...  "
      ]
     },
     "execution_count": 174,
     "metadata": {},
     "output_type": "execute_result"
    }
   ],
   "source": [
    "y_df"
   ]
  },
  {
   "cell_type": "code",
   "execution_count": 204,
   "metadata": {},
   "outputs": [
    {
     "data": {
      "text/plain": [
       "['inf_mean_dist',\n",
       " 'inf_var_dist',\n",
       " 'fat_contact',\n",
       " 'fat_area',\n",
       " 'hair_contact',\n",
       " 'hair_area',\n",
       " 'max_inf_ratio']"
      ]
     },
     "execution_count": 204,
     "metadata": {},
     "output_type": "execute_result"
    }
   ],
   "source": [
    "x_train = np.array([ls[1:] for ls in x_df.to_dict(\"split\")['data']])\n",
    "x_order = [ls[0] for ls in x_df.to_dict(\"split\")['data']]\n",
    "features = x_df.to_dict(\"split\")['columns'][1:]\n",
    "features"
   ]
  },
  {
   "cell_type": "code",
   "execution_count": 210,
   "metadata": {
    "scrolled": true
   },
   "outputs": [
    {
     "data": {
      "text/plain": [
       "array(['superficial_perivascular', 'superficial_and_deep_perivascular',\n",
       "       'Periadnexal', 'nodular', 'diffuse', 'vasculitis', 'folliculitis',\n",
       "       'septal_panniculitis', 'lobular_panniculitis'], dtype='<U33')"
      ]
     },
     "execution_count": 210,
     "metadata": {},
     "output_type": "execute_result"
    }
   ],
   "source": [
    "def rearrange(df, order):\n",
    "    ret = []\n",
    "    for slide_name in order:\n",
    "        for i in df.index:\n",
    "            if df[\"slide_no\"][i] == slide_name:\n",
    "                ret.append(np.array(df.iloc[i][1:-1]))\n",
    "    return np.array(ret)\n",
    "\n",
    "labels = rearrange(y_df, x_order).astype(np.int32)\n",
    "class_names = np.array(y_df.columns[1:-1]).astype(str)\n",
    "class_names\n",
    "#labels \n"
   ]
  },
  {
   "cell_type": "code",
   "execution_count": 184,
   "metadata": {},
   "outputs": [
    {
     "name": "stdout",
     "output_type": "stream",
     "text": [
      "(array([ 0,  0,  0,  1,  1,  1,  2,  2,  3,  3,  3,  4,  4,  5,  6,  7,  8,\n",
      "        9,  9, 11, 12, 13, 13, 13, 14, 14, 14, 15]), array([1, 2, 6, 1, 2, 8, 0, 2, 1, 2, 6, 0, 2, 0, 0, 0, 0, 0, 2, 1, 0, 0,\n",
      "       2, 6, 0, 2, 6, 0]))\n",
      "[array([1, 2, 6]), array([1, 2, 8]), array([0, 2]), array([1, 2, 6]), array([0, 2]), array([0]), array([0]), array([0]), array([0]), array([0, 2]), array([], dtype=int64), array([1]), array([0]), array([0, 2, 6]), array([0, 2, 6]), array([0])]\n"
     ]
    }
   ],
   "source": [
    "x_y = np.where(labels > 0)\n",
    "print(x_y)\n",
    "a = [x_y[1][(x_y[0] == i)] for i in range(len(labels))]\n",
    "print(a)"
   ]
  },
  {
   "cell_type": "markdown",
   "metadata": {},
   "source": [
    "### Take 1: sklearn decision tree"
   ]
  },
  {
   "cell_type": "code",
   "execution_count": 190,
   "metadata": {},
   "outputs": [],
   "source": [
    "clf = tree.DecisionTreeClassifier()"
   ]
  },
  {
   "cell_type": "code",
   "execution_count": 221,
   "metadata": {},
   "outputs": [],
   "source": [
    "clf = clf.fit(x_train, labels)"
   ]
  },
  {
   "cell_type": "code",
   "execution_count": 222,
   "metadata": {},
   "outputs": [
    {
     "data": {
      "text/plain": [
       "[Text(122.33076923076923, 199.32, 'X[3] <= 88.0\\ngini = 0.2\\nsamples = 16\\nvalue = [[5, 11]\\n[12, 4]\\n[8, 8]\\n[16, 0]\\n[16, 0]\\n[16, 0]\\n[12, 4]\\n[16, 0]\\n[15, 1]]'),\n",
       " Text(51.50769230769231, 163.07999999999998, 'X[5] <= 334.0\\ngini = 0.111\\nsamples = 2\\nvalue = [[2, 0]\\n[0, 2]\\n[0, 2]\\n[2, 0]\\n[2, 0]\\n[2, 0]\\n[1, 1]\\n[2, 0]\\n[1, 1]]'),\n",
       " Text(25.753846153846155, 126.83999999999999, 'gini = 0.0\\nsamples = 1\\nvalue = [[1, 0]\\n[0, 1]\\n[0, 1]\\n[1, 0]\\n[1, 0]\\n[1, 0]\\n[1, 0]\\n[1, 0]\\n[0, 1]]'),\n",
       " Text(77.26153846153846, 126.83999999999999, 'gini = 0.0\\nsamples = 1\\nvalue = [[1, 0]\\n[0, 1]\\n[0, 1]\\n[1, 0]\\n[1, 0]\\n[1, 0]\\n[0, 1]\\n[1, 0]\\n[1, 0]]'),\n",
       " Text(193.15384615384616, 163.07999999999998, 'X[1] <= 36.722\\ngini = 0.156\\nsamples = 14\\nvalue = [[3, 11]\\n[12, 2]\\n[8, 6]\\n[14, 0]\\n[14, 0]\\n[14, 0]\\n[11, 3]\\n[14, 0]\\n[14, 0]]'),\n",
       " Text(128.76923076923077, 126.83999999999999, 'X[0] <= 3.604\\ngini = 0.14\\nsamples = 10\\nvalue = [[1, 9]\\n[9, 1]\\n[4, 6]\\n[10, 0]\\n[10, 0]\\n[10, 0]\\n[7, 3]\\n[10, 0]\\n[10, 0]]'),\n",
       " Text(77.26153846153846, 90.6, 'X[6] <= 0.014\\ngini = 0.049\\nsamples = 6\\nvalue = [[0, 6]\\n[6, 0]\\n[4, 2]\\n[6, 0]\\n[6, 0]\\n[6, 0]\\n[6, 0]\\n[6, 0]\\n[6, 0]]'),\n",
       " Text(51.50769230769231, 54.359999999999985, 'gini = 0.0\\nsamples = 3\\nvalue = [[0, 3]\\n[3, 0]\\n[3, 0]\\n[3, 0]\\n[3, 0]\\n[3, 0]\\n[3, 0]\\n[3, 0]\\n[3, 0]]'),\n",
       " Text(103.01538461538462, 54.359999999999985, 'X[3] <= 157.0\\ngini = 0.049\\nsamples = 3\\nvalue = [[0, 3]\\n[3, 0]\\n[1, 2]\\n[3, 0]\\n[3, 0]\\n[3, 0]\\n[3, 0]\\n[3, 0]\\n[3, 0]]'),\n",
       " Text(77.26153846153846, 18.119999999999976, 'gini = 0.0\\nsamples = 1\\nvalue = [[0, 1]\\n[1, 0]\\n[1, 0]\\n[1, 0]\\n[1, 0]\\n[1, 0]\\n[1, 0]\\n[1, 0]\\n[1, 0]]'),\n",
       " Text(128.76923076923077, 18.119999999999976, 'gini = 0.0\\nsamples = 2\\nvalue = [[0, 2]\\n[2, 0]\\n[0, 2]\\n[2, 0]\\n[2, 0]\\n[2, 0]\\n[2, 0]\\n[2, 0]\\n[2, 0]]'),\n",
       " Text(180.27692307692308, 90.6, 'X[5] <= 90.0\\ngini = 0.125\\nsamples = 4\\nvalue = [[1, 3]\\n[3, 1]\\n[0, 4]\\n[4, 0]\\n[4, 0]\\n[4, 0]\\n[1, 3]\\n[4, 0]\\n[4, 0]]'),\n",
       " Text(154.52307692307693, 54.359999999999985, 'gini = 0.0\\nsamples = 1\\nvalue = [[1, 0]\\n[0, 1]\\n[0, 1]\\n[1, 0]\\n[1, 0]\\n[1, 0]\\n[0, 1]\\n[1, 0]\\n[1, 0]]'),\n",
       " Text(206.03076923076924, 54.359999999999985, 'X[6] <= 0.031\\ngini = 0.049\\nsamples = 3\\nvalue = [[0, 3]\\n[3, 0]\\n[0, 3]\\n[3, 0]\\n[3, 0]\\n[3, 0]\\n[1, 2]\\n[3, 0]\\n[3, 0]]'),\n",
       " Text(180.27692307692308, 18.119999999999976, 'gini = 0.0\\nsamples = 2\\nvalue = [[0, 2]\\n[2, 0]\\n[0, 2]\\n[2, 0]\\n[2, 0]\\n[2, 0]\\n[0, 2]\\n[2, 0]\\n[2, 0]]'),\n",
       " Text(231.7846153846154, 18.119999999999976, 'gini = 0.0\\nsamples = 1\\nvalue = [[0, 1]\\n[1, 0]\\n[0, 1]\\n[1, 0]\\n[1, 0]\\n[1, 0]\\n[1, 0]\\n[1, 0]\\n[1, 0]]'),\n",
       " Text(257.53846153846155, 126.83999999999999, 'X[5] <= 280.0\\ngini = 0.097\\nsamples = 4\\nvalue = [[2, 2]\\n[3, 1]\\n[4, 0]\\n[4, 0]\\n[4, 0]\\n[4, 0]\\n[4, 0]\\n[4, 0]\\n[4, 0]]'),\n",
       " Text(231.7846153846154, 90.6, 'gini = 0.0\\nsamples = 2\\nvalue = [[0, 2]\\n[2, 0]\\n[2, 0]\\n[2, 0]\\n[2, 0]\\n[2, 0]\\n[2, 0]\\n[2, 0]\\n[2, 0]]'),\n",
       " Text(283.2923076923077, 90.6, 'X[1] <= 73.228\\ngini = 0.056\\nsamples = 2\\nvalue = [[2, 0]\\n[1, 1]\\n[2, 0]\\n[2, 0]\\n[2, 0]\\n[2, 0]\\n[2, 0]\\n[2, 0]\\n[2, 0]]'),\n",
       " Text(257.53846153846155, 54.359999999999985, 'gini = 0.0\\nsamples = 1\\nvalue = [[1, 0]\\n[0, 1]\\n[1, 0]\\n[1, 0]\\n[1, 0]\\n[1, 0]\\n[1, 0]\\n[1, 0]\\n[1, 0]]'),\n",
       " Text(309.04615384615386, 54.359999999999985, 'gini = 0.0\\nsamples = 1\\nvalue = [[1, 0]\\n[1, 0]\\n[1, 0]\\n[1, 0]\\n[1, 0]\\n[1, 0]\\n[1, 0]\\n[1, 0]\\n[1, 0]]')]"
      ]
     },
     "execution_count": 222,
     "metadata": {},
     "output_type": "execute_result"
    },
    {
     "data": {
      "image/png": "[encoded data removed]",
      "text/plain": [
       "<Figure size 432x288 with 1 Axes>"
      ]
     },
     "metadata": {
      "needs_background": "light"
     },
     "output_type": "display_data"
    }
   ],
   "source": [
    "tree.plot_tree(clf) "
   ]
  },
  {
   "cell_type": "code",
   "execution_count": 223,
   "metadata": {},
   "outputs": [
    {
     "data": {
      "text/plain": [
       "array([[ True,  True,  True,  True,  True,  True,  True,  True,  True],\n",
       "       [ True,  True,  True,  True,  True,  True,  True,  True,  True],\n",
       "       [ True,  True,  True,  True,  True,  True,  True,  True,  True],\n",
       "       [ True,  True,  True,  True,  True,  True,  True,  True,  True],\n",
       "       [ True,  True,  True,  True,  True,  True,  True,  True,  True],\n",
       "       [ True,  True,  True,  True,  True,  True,  True,  True,  True],\n",
       "       [ True,  True,  True,  True,  True,  True,  True,  True,  True],\n",
       "       [ True,  True,  True,  True,  True,  True,  True,  True,  True],\n",
       "       [ True,  True,  True,  True,  True,  True,  True,  True,  True],\n",
       "       [ True,  True,  True,  True,  True,  True,  True,  True,  True],\n",
       "       [ True,  True,  True,  True,  True,  True,  True,  True,  True],\n",
       "       [ True,  True,  True,  True,  True,  True,  True,  True,  True],\n",
       "       [ True,  True,  True,  True,  True,  True,  True,  True,  True],\n",
       "       [ True,  True,  True,  True,  True,  True,  True,  True,  True],\n",
       "       [ True,  True,  True,  True,  True,  True,  True,  True,  True],\n",
       "       [ True,  True,  True,  True,  True,  True,  True,  True,  True]])"
      ]
     },
     "execution_count": 223,
     "metadata": {},
     "output_type": "execute_result"
    }
   ],
   "source": [
    "out = clf.predict(x_train)\n",
    "out == labels"
   ]
  },
  {
   "cell_type": "code",
   "execution_count": 224,
   "metadata": {},
   "outputs": [],
   "source": [
    "import graphviz\n",
    "dot_data = tree.export_graphviz(clf, out_file=None, \n",
    "                      feature_names=features,  \n",
    "                      class_names=class_names,  \n",
    "                      filled=True, rounded=True,  \n",
    "                      special_characters=True)  \n",
    "graph = graphviz.Source(dot_data) "
   ]
  },
  {
   "cell_type": "code",
   "execution_count": null,
   "metadata": {},
   "outputs": [],
   "source": [
    "graph"
   ]
  },
  {
   "cell_type": "code",
   "execution_count": 231,
   "metadata": {},
   "outputs": [],
   "source": [
    "import xgboost as xgb\n",
    "from sklearn.multiclass import OneVsRestClassifier\n",
    "from sklearn.preprocessing import MultiLabelBinarizer"
   ]
  },
  {
   "cell_type": "code",
   "execution_count": 237,
   "metadata": {
    "scrolled": true
   },
   "outputs": [
    {
     "name": "stderr",
     "output_type": "stream",
     "text": [
      "/usr/local/lib/python3.8/site-packages/sklearn/multiclass.py:74: UserWarning: Label not 3 is present in all training examples.\n",
      "  warnings.warn(\"Label %s is present in all training examples.\" %\n",
      "/usr/local/lib/python3.8/site-packages/sklearn/multiclass.py:74: UserWarning: Label not 4 is present in all training examples.\n",
      "  warnings.warn(\"Label %s is present in all training examples.\" %\n",
      "/usr/local/lib/python3.8/site-packages/sklearn/multiclass.py:74: UserWarning: Label not 5 is present in all training examples.\n",
      "  warnings.warn(\"Label %s is present in all training examples.\" %\n",
      "/usr/local/lib/python3.8/site-packages/sklearn/multiclass.py:74: UserWarning: Label not 7 is present in all training examples.\n",
      "  warnings.warn(\"Label %s is present in all training examples.\" %\n"
     ]
    },
    {
     "data": {
      "text/plain": [
       "OneVsRestClassifier(estimator=XGBClassifier(base_score=None, booster=None,\n",
       "                                            colsample_bylevel=None,\n",
       "                                            colsample_bynode=None,\n",
       "                                            colsample_bytree=None, gamma=None,\n",
       "                                            gpu_id=None, importance_type='gain',\n",
       "                                            interaction_constraints=None,\n",
       "                                            learning_rate=None,\n",
       "                                            max_delta_step=None, max_depth=10,\n",
       "                                            min_child_weight=None, missing=nan,\n",
       "                                            monotone_constraints=None,\n",
       "                                            n_estimators=100, n_jobs=-1,\n",
       "                                            num_parallel_tree=None,\n",
       "                                            objective='binary:logistic',\n",
       "                                            random_state=None, reg_alpha=None,\n",
       "                                            reg_lambda=None,\n",
       "                                            scale_pos_weight=None,\n",
       "                                            subsample=None, tree_method=None,\n",
       "                                            validate_parameters=None,\n",
       "                                            verbosity=None),\n",
       "                    n_jobs=None)"
      ]
     },
     "execution_count": 237,
     "metadata": {},
     "output_type": "execute_result"
    }
   ],
   "source": [
    "xgb_model = OneVsRestClassifier(xgb.XGBClassifier(n_jobs=-1, max_depth=10))\n",
    "xgb_model.fit(x_train, labels)"
   ]
  },
  {
   "cell_type": "code",
   "execution_count": 239,
   "metadata": {},
   "outputs": [
    {
     "data": {
      "text/plain": [
       "array([[0, 1, 1, 0, 0, 0, 1, 0, 0],\n",
       "       [0, 1, 1, 0, 0, 0, 0, 0, 1],\n",
       "       [1, 0, 1, 0, 0, 0, 0, 0, 0],\n",
       "       [0, 1, 1, 0, 0, 0, 1, 0, 0],\n",
       "       [1, 0, 1, 0, 0, 0, 0, 0, 0],\n",
       "       [1, 0, 0, 0, 0, 0, 0, 0, 0],\n",
       "       [1, 0, 0, 0, 0, 0, 0, 0, 0],\n",
       "       [1, 0, 0, 0, 0, 0, 0, 0, 0],\n",
       "       [1, 0, 0, 0, 0, 0, 0, 0, 0],\n",
       "       [1, 0, 1, 0, 0, 0, 0, 0, 0],\n",
       "       [0, 0, 0, 0, 0, 0, 0, 0, 0],\n",
       "       [0, 1, 0, 0, 0, 0, 0, 0, 0],\n",
       "       [1, 0, 0, 0, 0, 0, 0, 0, 0],\n",
       "       [1, 0, 1, 0, 0, 0, 1, 0, 0],\n",
       "       [1, 0, 1, 0, 0, 0, 1, 0, 0],\n",
       "       [1, 0, 0, 0, 0, 0, 0, 0, 0]], dtype=int32)"
      ]
     },
     "execution_count": 239,
     "metadata": {},
     "output_type": "execute_result"
    }
   ],
   "source": [
    "labels"
   ]
  },
  {
   "cell_type": "code",
   "execution_count": null,
   "metadata": {},
   "outputs": [],
   "source": []
  }
 ],
 "metadata": {
  "kernelspec": {
   "display_name": "Python 3",
   "language": "python",
   "name": "python3"
  },
  "language_info": {
   "codemirror_mode": {
    "name": "ipython",
    "version": 3
   },
   "file_extension": ".py",
   "mimetype": "text/x-python",
   "name": "python",
   "nbconvert_exporter": "python",
   "pygments_lexer": "ipython3",
   "version": "3.8.3"
  }
 },
 "nbformat": 4,
 "nbformat_minor": 4
}
